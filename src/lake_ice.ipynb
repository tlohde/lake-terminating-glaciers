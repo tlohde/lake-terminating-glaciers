{
 "cells": [
  {
   "cell_type": "markdown",
   "metadata": {},
   "source": [
    "# s1 backscatter for lake ice cover"
   ]
  },
  {
   "cell_type": "code",
   "execution_count": 2,
   "metadata": {},
   "outputs": [],
   "source": [
    "# run this on planeatry computer [conda env: notebook]*\n",
    "from dask.distributed import LocalCluster\n",
    "import dask\n",
    "import dask.dataframe as dd\n",
    "import geopandas as gpd\n",
    "from itertools import product\n",
    "import numpy as np\n",
    "import matplotlib.pyplot as plt\n",
    "import pandas as pd\n",
    "import pystac\n",
    "import pystac_client\n",
    "import planetary_computer\n",
    "import rioxarray as rio\n",
    "import seaborn as sns\n",
    "from shapely.geometry import LineString, Point, box, Polygon\n",
    "import stackstac\n",
    "from tqdm import tqdm\n",
    "import xarray as xr\n",
    "import utils\n",
    "from geocube.api.core import make_geocube\n",
    "\n",
    "import sarsen\n",
    "import adlfs\n",
    "import requests"
   ]
  },
  {
   "cell_type": "code",
   "execution_count": 3,
   "metadata": {},
   "outputs": [],
   "source": [
    "centrelines = gpd.read_file('../data/streams_v3.geojson')\n",
    "\n",
    "basins = (gpd.read_file('../data/basins/Greenland_Basins_PS_v1.4.2.shp')\n",
    "          .dissolve('SUBREGION1'))\n",
    "centrelines = centrelines.sjoin(basins.drop(columns=['NAME', 'GL_TYPE']),\n",
    "                                how='left'\n",
    "                                ).rename(columns={'index_right': 'region'})\n",
    "\n",
    "lakes = gpd.read_file('../data/lake_areas.geojson')\n",
    "\n",
    "lakes = lakes.sjoin_nearest(centrelines)\n",
    "lakes = lakes.sort_values(by='id').drop(columns=['index_right', 'name', 'lake_land'])"
   ]
  },
  {
   "cell_type": "code",
   "execution_count": 4,
   "metadata": {},
   "outputs": [
    {
     "name": "stderr",
     "output_type": "stream",
     "text": [
      "1it [00:05,  5.39s/it]\n"
     ]
    }
   ],
   "source": [
    "# doesn't need running again because saved output to: '../results/s1_lake_backscatter.parquet'\n",
    "catalog = pystac_client.Client.open(\"https://planetarycomputer.microsoft.com/api/stac/v1\")\n",
    "medians = []\n",
    "ids = []\n",
    "for row in tqdm(lakes.to_crs(4326).sample(1).itertuples()):\n",
    "    \n",
    "    search = catalog.search(collections=['sentinel-1-rtc'],\n",
    "                            intersects=row.geometry)\n",
    "    \n",
    "    s1items = search.item_collection()\n",
    "    \n",
    "    # get most common projection\n",
    "    vals, cnts = np.unique([item.properties['proj:epsg'] for item in s1items] ,return_counts=True)\n",
    "    epsg = int(vals[np.argmax(cnts)])\n",
    "    \n",
    "    # stack & clip\n",
    "    ds = stackstac.stack(planetary_computer.sign(s1items),\n",
    "                        epsg=epsg,\n",
    "                        bounds_latlon=row.geometry.bounds)\n",
    "    \n",
    "    mask = (make_geocube(lakes.to_crs(4326).loc[lakes['id']==row.id],\n",
    "                          fill=np.nan,\n",
    "                          like=ds)['id']\n",
    "             .rename('mask'))\n",
    "    \n",
    "    # apply mask and convert to dB\n",
    "    ds_db = xr.where(mask==row.id,\n",
    "                     10 * np.log10(ds),\n",
    "                     np.nan)\n",
    "\n",
    "    median = (ds_db\n",
    "              .median(dim=['y','x'], skipna=True)\n",
    "              .rename('dB'))\n",
    "    \n",
    "    medians.append(median) # consider making this a future\n",
    "    ids.append(row.id)\n"
   ]
  },
  {
   "cell_type": "markdown",
   "metadata": {},
   "source": [
    "## wip: getting local incidence angle across sar image"
   ]
  },
  {
   "cell_type": "markdown",
   "metadata": {},
   "source": [
    "using: \n",
    "- https://github.com/egagli/generate_sentinel1_local_incidence_angle_maps/blob/882b9940a843c6dc3040f992ad6bed14201a2f5c/generate_lia.py#L61\n",
    "- https://github.com/microsoft/PlanetaryComputerExamples/blob/main/tutorials/rtc-qualitative-assessment.ipynb\n",
    "- and sarsen"
   ]
  },
  {
   "cell_type": "code",
   "execution_count": 5,
   "metadata": {},
   "outputs": [],
   "source": [
    "# get a dem\n",
    "def get_copernicus_dem(geom: Polygon,\n",
    "                        res: int = 30,\n",
    "                        ):\n",
    "    '''\n",
    "    get Copernicus Global DEM from planetary computer stac catalog\n",
    "    inputs:\n",
    "        geom - shapely geometry (polygon / box)\n",
    "        res - int: resolution of DEM (either 30, or 90, default 30)\n",
    "        rprj - bool: whether or not to reprojct the dem\n",
    "        prj - projection to reprject to\n",
    "        interp - whether or not to interpolate nans\n",
    "    returns: xarray instance of DEM\n",
    "    clipped to envelope of `geom`\n",
    "    if reprojected then not only clipped but also aligned\n",
    "    with nan's interpolated\n",
    "    '''\n",
    "\n",
    "    catalog = pystac_client.Client.open(\n",
    "        \"https://planetarycomputer.microsoft.com/api/stac/v1\",\n",
    "        modifier=planetary_computer.sign_inplace,\n",
    "    )\n",
    "\n",
    "    search = catalog.search(collections=[f'cop-dem-glo-{res}'],\n",
    "                            intersects=geom.envelope)\n",
    "\n",
    "    items = search.item_collection()\n",
    "    if len(items) > 0:\n",
    "        dem = (stackstac.stack(\n",
    "            planetary_computer.sign(items))\n",
    "            .mean(dim='time', skipna=True)\n",
    "            .squeeze()\n",
    "            .rio.write_crs(4326)\n",
    "            .rio.clip_box(*geom.bounds)\n",
    "            )\n",
    "        \n",
    "    return dem\n"
   ]
  },
  {
   "cell_type": "code",
   "execution_count": 6,
   "metadata": {},
   "outputs": [],
   "source": [
    "dem = get_copernicus_dem(row.geometry)\n",
    "demprj = dem.rio.reproject_match(ds, nodata=np.nan)"
   ]
  },
  {
   "cell_type": "code",
   "execution_count": 7,
   "metadata": {},
   "outputs": [],
   "source": [
    "bucket = \"s1-grd\"\n",
    "token = planetary_computer.sas.get_token('sentinel1euwest', 's1-grd').token\n",
    "grd_fs = adlfs.AzureBlobFileSystem('sentinel1euwest', credential=token)"
   ]
  },
  {
   "cell_type": "code",
   "execution_count": null,
   "metadata": {},
   "outputs": [
    {
     "data": {
      "text/plain": [
       "['s1-grd/GRD/2025/2/15/IW/DH/S1A_IW_GRDH_1SDH_20250215T204541_20250215T204606_057912_072525_8BB2/annotation',\n",
       " 's1-grd/GRD/2025/2/15/IW/DH/S1A_IW_GRDH_1SDH_20250215T204541_20250215T204606_057912_072525_8BB2/manifest.safe',\n",
       " 's1-grd/GRD/2025/2/15/IW/DH/S1A_IW_GRDH_1SDH_20250215T204541_20250215T204606_057912_072525_8BB2/measurement',\n",
       " 's1-grd/GRD/2025/2/15/IW/DH/S1A_IW_GRDH_1SDH_20250215T204541_20250215T204606_057912_072525_8BB2/preview',\n",
       " 's1-grd/GRD/2025/2/15/IW/DH/S1A_IW_GRDH_1SDH_20250215T204541_20250215T204606_057912_072525_8BB2/productInfo.json',\n",
       " 's1-grd/GRD/2025/2/15/IW/DH/S1A_IW_GRDH_1SDH_20250215T204541_20250215T204606_057912_072525_8BB2/report-20250215T231943.pdf',\n",
       " 's1-grd/GRD/2025/2/15/IW/DH/S1A_IW_GRDH_1SDH_20250215T204541_20250215T204606_057912_072525_8BB2/support']"
      ]
     },
     "execution_count": 8,
     "metadata": {},
     "output_type": "execute_result"
    }
   ],
   "source": [
    "# unique relative orbits\n",
    "unique_relative_orbits = np.unique(ds['sat:relative_orbit'])\n",
    "ids = []\n",
    "for orb in unique_relative_orbits:\n",
    "    file_id = ds[ds['sat:relative_orbit']==orb][0].id.values\n",
    "    rtc_item = catalog.get_collection('sentinel-1-rtc').get_item(file_id)\n",
    "    grd_item = pystac.read_file(rtc_item.get_single_link(\"derived_from\").target)\n",
    "    \n",
    "    grd_band = [grd_item.assets.get(band, None)\n",
    "                for band in ['hh', 'hv', 'vh', 'vv']\n",
    "                if band in grd_item.assets.keys()][0]\n",
    "\n",
    "    ids.append(grd_band.href[53:-23])"
   ]
  },
  {
   "cell_type": "code",
   "execution_count": 34,
   "metadata": {},
   "outputs": [],
   "source": [
    "import os\n",
    "def mirror_folder(fs, bucket, folder, exclude=\"vh\"):\n",
    "    # from https://github.com/bopen/sarsen/blob/main/notebooks/gamma_wrt_incidence_angle-S1-GRD-IW-RTC-South-of-Redmond.ipynb\n",
    "    for path, folders, files in fs.walk(f\"{bucket}/{folder}\"):\n",
    "        os.makedirs(path[len(bucket) + 1 :], exist_ok=True)\n",
    "        for f in files:\n",
    "            if exclude in f:\n",
    "                continue\n",
    "            file_path = os.path.join(path, f)\n",
    "            lfile_path = file_path[len(bucket) + 1 :]\n",
    "            if not os.path.isfile(lfile_path):\n",
    "                fs.download(file_path, lfile_path + \"~\")\n",
    "                os.rename(lfile_path + \"~\", lfile_path)"
   ]
  },
  {
   "cell_type": "code",
   "execution_count": null,
   "metadata": {},
   "outputs": [
    {
     "data": {
      "text/plain": [
       "'IW/HH/coordinate_conversion'"
      ]
     },
     "execution_count": 126,
     "metadata": {},
     "output_type": "execute_result"
    }
   ],
   "source": []
  },
  {
   "cell_type": "code",
   "execution_count": 130,
   "metadata": {},
   "outputs": [
    {
     "name": "stderr",
     "output_type": "stream",
     "text": [
      "/home/s1759665/micromamba/envs/pro/lib/python3.12/site-packages/sarsen/sentinel1.py:34: UserWarning: Converting non-nanosecond precision datetime values to nanosecond precision. This behavior can eventually be relaxed in xarray, as it is an artifact from pandas which is now beginning to support non-nanosecond precision values. This warning is caused by passing non-nanosecond np.datetime64 or np.timedelta64 values to the DataArray or Variable constructor; it can be silenced by converting the values to nanosecond precision ahead of time.\n",
      "  ds = xr.open_dataset(product_urlpath, group=group, chunks=chunks, **kwargs)\n",
      "/home/s1759665/micromamba/envs/pro/lib/python3.12/site-packages/sarsen/sentinel1.py:34: UserWarning: Converting non-nanosecond precision datetime values to nanosecond precision. This behavior can eventually be relaxed in xarray, as it is an artifact from pandas which is now beginning to support non-nanosecond precision values. This warning is caused by passing non-nanosecond np.datetime64 or np.timedelta64 values to the DataArray or Variable constructor; it can be silenced by converting the values to nanosecond precision ahead of time.\n",
      "  ds = xr.open_dataset(product_urlpath, group=group, chunks=chunks, **kwargs)\n"
     ]
    }
   ],
   "source": [
    "mirror_folder(grd_fs, bucket, ids[0])\n",
    "sarsen.sentinel1.open_dataset_autodetect(ids[0])[0].attrs['subgroups'] #, group='IW/HH')\n",
    "orbit_ecef, _ = sarsen.sentinel1.open_dataset_autodetect(ids[0], group='IW/HH/orbit')\n",
    "\n",
    "coord_conv = [grp for grp in sarsen.sentinel1.open_dataset_autodetect(ids[0])[0].attrs['subgroups'] if 'coordinate_conversion' in grp][0]\n",
    "coord_conversion, _ = sarsen.sentinel1.open_dataset_autodetect(ids[0], group=coord_conv)"
   ]
  },
  {
   "cell_type": "code",
   "execution_count": null,
   "metadata": {},
   "outputs": [],
   "source": [
    "dem_prj = demprj.drop_vars(['epsg',\n",
    "                            'proj:transform',\n",
    "                            'proj:epsg',\n",
    "                            'proj:shape']).rio.write_crs(demprj.rio.crs)\n",
    "if dem_prj.y.diff('y').values[0] < 0:\n",
    "    dem_prj = dem_prj.isel(y=slice(None, None, -1))\n",
    "dem_prj.attrs['long_name'] = 'elevation'\n",
    "dem_prj.attrs['units'] = 'm'\n",
    "dem_prj = dem_prj.rename('dem').squeeze(drop=True)\n",
    "\n",
    "dem_ecef = sarsen.scene.convert_to_dem_ecef(dem_prj,\n",
    "                                            source_crs=demprj.rio.crs)"
   ]
  },
  {
   "cell_type": "code",
   "execution_count": 131,
   "metadata": {},
   "outputs": [],
   "source": [
    "def slant_to_ground(a, b):\n",
    "    xarray_sentinel.slant_range_time_to_ground_range(a, b, coordinate_conversion=coord_conversion)"
   ]
  },
  {
   "cell_type": "code",
   "execution_count": 132,
   "metadata": {},
   "outputs": [
    {
     "name": "stderr",
     "output_type": "stream",
     "text": [
      "/home/s1759665/micromamba/envs/pro/lib/python3.12/site-packages/numpy/core/fromnumeric.py:88: RuntimeWarning: invalid value encountered in reduce\n",
      "  return ufunc.reduce(obj, axis, dtype, out, **passkwargs)\n",
      "/home/s1759665/micromamba/envs/pro/lib/python3.12/site-packages/numpy/core/fromnumeric.py:88: RuntimeWarning: invalid value encountered in reduce\n",
      "  return ufunc.reduce(obj, axis, dtype, out, **passkwargs)\n",
      "/home/s1759665/micromamba/envs/pro/lib/python3.12/site-packages/scipy/interpolate/_interpolate.py:712: RuntimeWarning: invalid value encountered in subtract\n",
      "  slope = (y_hi - y_lo) / (x_hi - x_lo)[:, None]\n",
      "/home/s1759665/micromamba/envs/pro/lib/python3.12/site-packages/scipy/interpolate/_interpolate.py:715: RuntimeWarning: invalid value encountered in add\n",
      "  y_new = slope*(x_new - x_lo)[:, None] + y_lo\n",
      "/home/s1759665/micromamba/envs/pro/lib/python3.12/site-packages/numpy/core/numeric.py:1655: RuntimeWarning: invalid value encountered in subtract\n",
      "  cp2 -= tmp\n",
      "/home/s1759665/micromamba/envs/pro/lib/python3.12/site-packages/scipy/interpolate/_interpolate.py:712: RuntimeWarning: invalid value encountered in subtract\n",
      "  slope = (y_hi - y_lo) / (x_hi - x_lo)[:, None]\n",
      "/home/s1759665/micromamba/envs/pro/lib/python3.12/site-packages/scipy/interpolate/_interpolate.py:715: RuntimeWarning: invalid value encountered in add\n",
      "  y_new = slope*(x_new - x_lo)[:, None] + y_lo\n",
      "/home/s1759665/micromamba/envs/pro/lib/python3.12/site-packages/numpy/core/numeric.py:1655: RuntimeWarning: invalid value encountered in subtract\n",
      "  cp2 -= tmp\n",
      "/home/s1759665/micromamba/envs/pro/lib/python3.12/site-packages/numpy/core/fromnumeric.py:88: RuntimeWarning: invalid value encountered in reduce\n",
      "  return ufunc.reduce(obj, axis, dtype, out, **passkwargs)\n",
      "/home/s1759665/micromamba/envs/pro/lib/python3.12/site-packages/numpy/core/fromnumeric.py:88: RuntimeWarning: invalid value encountered in reduce\n",
      "  return ufunc.reduce(obj, axis, dtype, out, **passkwargs)\n"
     ]
    }
   ],
   "source": [
    "acquisition = sarsen.apps.simulate_acquisition(dem_ecef,\n",
    "                                               orbit_ecef.position,\n",
    "                                               slant_range_time_to_ground_range=slant_to_ground,\n",
    "                                               correct_radiometry=True)\n",
    "oriented_area = sarsen.scene.compute_dem_oriented_area(dem_ecef)\n",
    "dem_normal = -oriented_area / np.sqrt(xr.dot(oriented_area, oriented_area, dims=\"axis\"))\n",
    "orbit_interpolator = sarsen.orbit.OrbitPolyfitIterpolator.from_position(orbit_ecef.position)\n",
    "position_ecef = orbit_interpolator.position()\n",
    "velocity_ecef = orbit_interpolator.velocity()\n",
    "acquisition = sarsen.geocoding.backward_geocode(dem_ecef, orbit_ecef.position, velocity_ecef)\n",
    "slant_range = np.sqrt((acquisition.dem_distance**2).sum(dim=\"axis\"))\n",
    "dem_direction = acquisition.dem_distance / slant_range\n",
    "angle = np.arccos(xr.dot(dem_normal, dem_direction, dims=\"axis\"))"
   ]
  },
  {
   "cell_type": "code",
   "execution_count": 135,
   "metadata": {},
   "outputs": [
    {
     "data": {
      "text/plain": [
       "<matplotlib.collections.QuadMesh at 0x7b3563158650>"
      ]
     },
     "execution_count": 135,
     "metadata": {},
     "output_type": "execute_result"
    },
    {
     "data": {
      "image/png": "[encoded data removed]",
      "text/plain": [
       "<Figure size 640x480 with 2 Axes>"
      ]
     },
     "metadata": {},
     "output_type": "display_data"
    }
   ],
   "source": [
    "np.degrees(angle).plot()"
   ]
  },
  {
   "cell_type": "markdown",
   "metadata": {},
   "source": [
    "## get s1 data"
   ]
  },
  {
   "cell_type": "code",
   "execution_count": null,
   "metadata": {},
   "outputs": [],
   "source": [
    "\n",
    "with LocalCluster() as cluster:\n",
    "    client = cluster.get_client()\n",
    "    print(client.dashboard_link)    \n",
    "    computed_medians = dask.compute(*medians)\n",
    "    dfs = []\n",
    "    for m_ds, id in zip(computed_medians, ids):\n",
    "        _df = m_ds.to_dataframe()\n",
    "        _df['myid'] = id\n",
    "        dfs.append(_df)\n",
    "    \n",
    "    df = pd.concat(dfs).reset_index().set_index('time')\n",
    "    \n",
    "df.to_parquet('../results/s1_lake_backscatter.parquet')"
   ]
  },
  {
   "cell_type": "code",
   "execution_count": null,
   "metadata": {},
   "outputs": [],
   "source": [
    "df = pd.read_parquet('../results/s1_lake_backscatter.parquet')\n",
    "df = df.merge(centrelines['SUBREGION1'], left_on='myid', right_index=True)"
   ]
  },
  {
   "cell_type": "code",
   "execution_count": null,
   "metadata": {},
   "outputs": [],
   "source": [
    "df.head()"
   ]
  },
  {
   "cell_type": "code",
   "execution_count": null,
   "metadata": {},
   "outputs": [],
   "source": [
    "df"
   ]
  },
  {
   "cell_type": "code",
   "execution_count": null,
   "metadata": {},
   "outputs": [],
   "source": [
    "site = 1\n",
    "pol = 'hh'\n",
    "\n",
    "fig, ax = plt.subplots(figsize=[15,8])\n",
    "df.loc[(df['myid']==site) & (df['band']==pol)]['dB'].rolling('30d', center=True).median().plot(ax=ax)"
   ]
  },
  {
   "cell_type": "code",
   "execution_count": null,
   "metadata": {},
   "outputs": [],
   "source": [
    "fg = sns.relplot(data=df.groupby(['myid', 'band', 'SUBREGION1'])['dB'].rolling('30d').median().reset_index(),\n",
    "                 x='time',\n",
    "                 y='dB',\n",
    "                 row='SUBREGION1',\n",
    "                 hue='SUBREGION1',\n",
    "                 style='myid',\n",
    "                 palette='tab10',\n",
    "                 col='band',\n",
    "                 col_order=['hh'],\n",
    "                 kind='line',\n",
    "                 aspect=2,\n",
    "                #  height=10\n",
    "                 )\n",
    "\n",
    "fg.set(ylim=(-22,2))"
   ]
  },
  {
   "cell_type": "code",
   "execution_count": null,
   "metadata": {},
   "outputs": [],
   "source": [
    "df['doy'] = df.index.day_of_year\n",
    "df['year'] = df.index.year"
   ]
  },
  {
   "cell_type": "code",
   "execution_count": null,
   "metadata": {},
   "outputs": [],
   "source": [
    "smoothed = df.groupby(['myid', 'band', 'SUBREGION1'])['dB'].rolling('30d', min_periods=3, center=True).median().reset_index()\n",
    "smoothed['doy'] = smoothed['time'].dt.day_of_year\n",
    "smoothed['year'] = smoothed['time'].dt.year\n"
   ]
  },
  {
   "cell_type": "code",
   "execution_count": null,
   "metadata": {},
   "outputs": [],
   "source": [
    "sns.relplot(data=smoothed.loc[\n",
    "    (smoothed['band'].isin(['hh']))\n",
    "    & (smoothed['year'].isin([2018, 2024]))\n",
    "    ],\n",
    "            x='doy',\n",
    "            y='dB',\n",
    "            hue='year',\n",
    "            col='SUBREGION1',\n",
    "            col_wrap=3,\n",
    "            # row='SUBREGION1',\n",
    "            kind='line')"
   ]
  }
 ],
 "metadata": {
  "kernelspec": {
   "display_name": "pro",
   "language": "python",
   "name": "python3"
  },
  "language_info": {
   "codemirror_mode": {
    "name": "ipython",
    "version": 3
   },
   "file_extension": ".py",
   "mimetype": "text/x-python",
   "name": "python",
   "nbconvert_exporter": "python",
   "pygments_lexer": "ipython3",
   "version": "3.12.3"
  }
 },
 "nbformat": 4,
 "nbformat_minor": 2
}

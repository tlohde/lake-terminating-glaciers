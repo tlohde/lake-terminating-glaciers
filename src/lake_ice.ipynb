{
 "cells": [
  {
   "cell_type": "markdown",
   "metadata": {},
   "source": [
    "# s1 backscatter for lake ice cover"
   ]
  },
  {
   "cell_type": "code",
   "execution_count": 1,
   "metadata": {},
   "outputs": [
    {
     "data": {
      "text/plain": [
       "<module 'lakeIce_utils' from '/scratch/s1759665/paper2/src/lakeIce_utils.py'>"
      ]
     },
     "execution_count": 1,
     "metadata": {},
     "output_type": "execute_result"
    }
   ],
   "source": [
    "# use `pro` env\n",
    "from dask.distributed import LocalCluster\n",
    "from functools import reduce\n",
    "import geopandas as gpd\n",
    "from glob import glob\n",
    "import numpy as np\n",
    "import logging\n",
    "import matplotlib.pyplot as plt\n",
    "from matplotlib.colors import Normalize\n",
    "from matplotlib.cm import ScalarMappable\n",
    "import pandas as pd\n",
    "import rioxarray as rio\n",
    "import seaborn as sns\n",
    "import stackstac\n",
    "import xarray as xr\n",
    "import lakeIce_utils as liU\n",
    "from tqdm import tqdm\n",
    "from scipy.stats import linregress\n",
    "\n",
    "import importlib\n",
    "importlib.reload(liU)"
   ]
  },
  {
   "cell_type": "code",
   "execution_count": 7,
   "metadata": {},
   "outputs": [
    {
     "name": "stderr",
     "output_type": "stream",
     "text": [
      "/tmp/ipykernel_915605/4255146022.py:18: UserWarning: Geometry is in a geographic CRS. Results from 'centroid' are likely incorrect. Use 'GeoSeries.to_crs()' to re-project geometries to a projected CRS before this operation.\n",
      "\n",
      "  lakes['lat'] = lakes.centroid.y\n"
     ]
    }
   ],
   "source": [
    "centrelines = gpd.read_file('../data/streams_v3.geojson')\n",
    "\n",
    "basins = (gpd.read_file('../data/basins/Greenland_Basins_PS_v1.4.2.shp')\n",
    "          .dissolve('SUBREGION1'))\n",
    "centrelines = centrelines.sjoin(basins.drop(columns=['NAME', 'GL_TYPE']),\n",
    "                                how='left'\n",
    "                                ).rename(columns={'index_right': 'region'})\n",
    "\n",
    "lakes = gpd.read_file('../data/lake_areas.geojson')\n",
    "\n",
    "lakes = lakes.sjoin_nearest(centrelines)\n",
    "lakes = (lakes\n",
    "            .sort_values(by='id')\n",
    "            .drop(columns=['index_right', 'name', 'lake_land'])\n",
    "            .to_crs(4326)\n",
    ")\n",
    "\n",
    "lakes['lat'] = lakes.centroid.y"
   ]
  },
  {
   "cell_type": "markdown",
   "metadata": {},
   "source": [
    "## freeze up thaw out"
   ]
  },
  {
   "cell_type": "code",
   "execution_count": 294,
   "metadata": {},
   "outputs": [],
   "source": [
    "df = pd.concat([pd.read_parquet(f) for f in glob('../results/lakeIce/*quantiles.parquet')])\n",
    "df['year'] = df.index.year\n",
    "df['month'] = df.index.month\n",
    "df = df.sort_index()"
   ]
  },
  {
   "cell_type": "markdown",
   "metadata": {},
   "source": [
    "### using simple difference method"
   ]
  },
  {
   "cell_type": "code",
   "execution_count": 5,
   "metadata": {},
   "outputs": [],
   "source": [
    "def futo(s):\n",
    "    first_half = s.month <= 7\n",
    "    second_half = s.month > 7\n",
    "    first_min = s[first_half].groupby('year')['delta_hh_0.5'].idxmin()\n",
    "    second_min = s[second_half].groupby('year')['delta_hh_0.5'].idxmin()\n",
    "\n",
    "    \n",
    "    return pd.merge(s.loc[first_min, 'time'].set_axis(first_min.index).rename('thaw'),\n",
    "                    s.loc[second_min, 'time'].set_axis(second_min.index).rename('freeze'),\n",
    "                    left_index=True, right_index=True)"
   ]
  },
  {
   "cell_type": "code",
   "execution_count": 311,
   "metadata": {},
   "outputs": [],
   "source": [
    "diff = (df\n",
    "        .groupby('id')['hh_0.5']\n",
    "        .apply(lambda q: q.diff())\n",
    "        .reset_index()\n",
    "        .rename(columns={'hh_0.5': 'delta_hh_0.5'})\n",
    "        )\n",
    "\n",
    "diff['month'] = diff.time.dt.month\n",
    "diff['year'] = diff.time.dt.year\n",
    "\n",
    "free_thaw = (diff\n",
    "             .groupby('id')[['id', 'month', 'delta_hh_0.5', 'time', 'year']]\n",
    "             .apply(lambda q: futo(q))\n",
    "             )\n",
    "free_thaw['thaw_doy'] = free_thaw['thaw'].dt.day_of_year\n",
    "\n",
    "free_thaw['freeze_doy'] = free_thaw['freeze'].dt.day_of_year\n",
    "\n",
    "free_thaw = pd.merge(\n",
    "    free_thaw.reset_index(),\n",
    "    lakes['lat'],\n",
    "    left_on='id',\n",
    "    right_index=True\n",
    "    )"
   ]
  },
  {
   "cell_type": "code",
   "execution_count": 355,
   "metadata": {},
   "outputs": [
    {
     "data": {
      "image/png": "[encoded data removed]",
      "text/plain": [
       "<Figure size 640x480 with 1 Axes>"
      ]
     },
     "metadata": {},
     "output_type": "display_data"
    }
   ],
   "source": [
    "fig, ax = plt.subplots()\n",
    "\n",
    "for id, grp in free_thaw.groupby('id'):\n",
    "    \n",
    "    free_box = ax.boxplot(grp.freeze_doy,\n",
    "                          positions=grp.lat.unique().round(2),\n",
    "                          vert=False,\n",
    "                          widths=0.5,\n",
    "                          patch_artist=True,\n",
    "                          whiskerprops={'color':'lightgray'},\n",
    "                          flierprops={'marker':'.', 'markeredgecolor': 'lightgray'},\n",
    "                          medianprops={'color':'k', 'lw': 3},\n",
    "                          capprops={'color':'lightgray'})\n",
    "    \n",
    "    thaw_box = ax.boxplot(grp.thaw_doy,\n",
    "                          positions=grp.lat.unique().round(2),\n",
    "                          vert=False,\n",
    "                          widths=0.5,\n",
    "                          patch_artist=True,\n",
    "                          whiskerprops={'color':'lightgray'},\n",
    "                          flierprops={'marker':'.', 'markeredgecolor': 'lightgray'},\n",
    "                          medianprops={'color':'k', 'lw': 3},\n",
    "                          capprops={'color':'lightgray'})\n",
    "    \n",
    "    thaw_box['boxes'][0].set_facecolor('tab:red')\n",
    "    thaw_box['boxes'][0].set_alpha(0.2)\n",
    "\n",
    "    \n",
    "    free_box['boxes'][0].set_facecolor('tab:blue')\n",
    "    free_box['boxes'][0].set_alpha(0.2)\n",
    "\n",
    "lats = lakes.lat.round().unique().astype(int)\n",
    "_ = ax.set_yticks(lats, labels=lats)\n",
    "\n",
    "month_starts = pd.date_range('2020-01-01', '2020-12-31', freq='MS')\n",
    "_ = ax.set_xticks(month_starts.day_of_year, labels=month_starts.strftime('%b'), ha='left')"
   ]
  },
  {
   "cell_type": "markdown",
   "metadata": {},
   "source": [
    "### resampling then taking derivtive"
   ]
  },
  {
   "cell_type": "code",
   "execution_count": 186,
   "metadata": {},
   "outputs": [],
   "source": [
    "from scipy.signal import find_peaks\n",
    "from scipy.ndimage import gaussian_filter1d"
   ]
  },
  {
   "cell_type": "code",
   "execution_count": 306,
   "metadata": {},
   "outputs": [],
   "source": [
    "grpby = df.groupby('id')\n",
    "\n",
    "\n",
    "minmaxs = []\n",
    "for id, grp in grpby:\n",
    "\n",
    "    old_idx = grp.index\n",
    "    new_idx = pd.date_range(old_idx.min(), old_idx.max(), freq='7d')\n",
    "\n",
    "    interpd = grp['hh_0.5'].reindex(old_idx.union(new_idx)).interpolate('time').reindex(new_idx)\n",
    "\n",
    "    smoothed = pd.Series(gaussian_filter1d(interpd.values, sigma=3), index=interpd.index)\n",
    "\n",
    "    minmax = smoothed.reset_index().groupby((smoothed.index - pd.DateOffset(months=6)).year)[0].agg(['idxmin', 'idxmax'])\n",
    "    annual_min = smoothed.index[minmax['idxmin']]\n",
    "    annual_max = smoothed.index[minmax['idxmax']]\n",
    "    \n",
    "    _tmp = pd.DataFrame({'freeze_doy': annual_min.day_of_year,\n",
    "                   'thaw_doy': annual_max.day_of_year,\n",
    "                   'min_dB': smoothed[annual_min].values,\n",
    "                   'max_dB': smoothed[annual_max].values,\n",
    "                   'id': [id]},\n",
    "                  index=minmax.index)\n",
    "\n",
    "    minmaxs.append(_tmp)\n",
    "\n",
    "    # # interpd.plot(ax=ax, label='interpd', c='lightgray')\n",
    "    # smoothed.plot(ax=ax, label='smoothed', c='gray', alpha=0.2)\n",
    "\n",
    "    # smoothed[annual_max].plot(ax=ax, marker='^', lw=0, label='freeze', c='tab:blue')\n",
    "    # smoothed[annual_min].plot(ax=ax, marker='v', lw=0, label='thaw', c='tab:red')\n",
    "\n",
    "\n",
    "    # # ax.legend()\n",
    "    # ticks = pd.date_range('2015-01-01', '2025-12-31', freq='YS')\n",
    "    # ax.set_xticks(ticks, labels=ticks.year, rotation=0, ha='left')"
   ]
  },
  {
   "cell_type": "code",
   "execution_count": 307,
   "metadata": {},
   "outputs": [],
   "source": [
    "free_thaw = pd.concat(minmaxs)\n",
    "\n",
    "free_thaw = pd.merge(\n",
    "    free_thaw.reset_index(),\n",
    "    lakes['lat'],\n",
    "    left_on='id',\n",
    "    right_index=True\n",
    "    )"
   ]
  },
  {
   "cell_type": "code",
   "execution_count": 310,
   "metadata": {},
   "outputs": [
    {
     "data": {
      "text/plain": [
       "<Axes: >"
      ]
     },
     "execution_count": 310,
     "metadata": {},
     "output_type": "execute_result"
    },
    {
     "data": {
      "image/png": "[encoded data removed]",
      "text/plain": [
       "<Figure size 640x480 with 1 Axes>"
      ]
     },
     "metadata": {},
     "output_type": "display_data"
    }
   ],
   "source": [
    "smoothed.plot()"
   ]
  },
  {
   "cell_type": "markdown",
   "metadata": {},
   "source": [
    "## normalizing backscatter by incidence angle"
   ]
  },
  {
   "cell_type": "code",
   "execution_count": null,
   "metadata": {},
   "outputs": [],
   "source": [
    "df = pd.concat([pd.read_parquet(f) for f in glob('../results/lakeIce/*_sample.parquet')])\n",
    "df = df.melt(['xy', 'time', 'sat:relative_orbit', 'angle', 'month', 'id', 'region'])\n",
    "df = df.rename(columns={\n",
    "    'variable': 'band',\n",
    "    'value': 'dB'\n",
    "})\n",
    "df['band'] = df['band'].str.replace('dB_', '')\n",
    "df['angle'] = np.degrees(df['angle'])"
   ]
  },
  {
   "cell_type": "code",
   "execution_count": null,
   "metadata": {},
   "outputs": [],
   "source": [
    "# get outliers (5th and 95th percentile) and ditch 'em before fitting model\n",
    "outliers = (df\n",
    " .groupby('band')\n",
    " .apply(lambda q: np.quantile(q['dB'], [0.05, 0.95]))\n",
    " .apply(pd.Series)\n",
    " .rename(columns={0: 'q02', 1: 'q98'})\n",
    ")\n",
    "\n",
    "idxs = []\n",
    "for band in outliers.index:\n",
    "    idx = (\n",
    "        (df['band'] == band)\n",
    "        &\n",
    "        (df['dB'] > outliers.loc[band, 'q02'])\n",
    "        &\n",
    "        (df['dB'] < outliers.loc[band, 'q98'])\n",
    "    )\n",
    "    idxs.append(idx)\n",
    "    \n",
    "idx = np.logical_or(*idxs)"
   ]
  },
  {
   "cell_type": "code",
   "execution_count": null,
   "metadata": {},
   "outputs": [],
   "source": [
    "## backscatter dependence on angle by band and month\n",
    "lr = (df[idx].groupby(['band', 'month'])[['angle', 'dB']].apply(lambda q: pd.Series(linregress(x = q['angle'],\n",
    "                                                              y = q['dB'])))\n",
    "      .reset_index()\n",
    "      .rename(columns = {0:'slope',\n",
    "                         1:'intercept',\n",
    "                         2:'rvalue',\n",
    "                         3:'pvalue',\n",
    "                         4:'stderr'}))\n",
    "\n",
    "\n",
    "minang, maxang = df['angle'].agg(['min', 'max'])\n",
    "incident_angles = np.arange(minang//1, 1 + maxang//1)\n",
    "month_norm = Normalize(1, 12)\n",
    "\n",
    "print(lr.loc[\n",
    "    lr['slope'].abs().sort_values(ascending=False).index\n",
    "    ].to_markdown())\n",
    "\n",
    "band_style = {\n",
    "    'hh': ':',\n",
    "    'hv': '-'\n",
    "}\n",
    "fig, ax = plt.subplots()\n",
    "\n",
    "for fit in lr.itertuples():\n",
    "    if fit.month == 6:\n",
    "        label = fit.band\n",
    "    else:\n",
    "        label = None\n",
    "    ax.plot(incident_angles,\n",
    "            incident_angles * fit.slope + fit.intercept,\n",
    "            c=plt.get_cmap('twilight')(month_norm(fit.month)),\n",
    "            ls=band_style[fit.band],\n",
    "            label=label)\n",
    "\n",
    "ax.legend()\n",
    "\n",
    "sm = ScalarMappable(month_norm, cmap='twilight')\n",
    "plt.colorbar(sm, ax=ax, label='month')\n",
    "\n",
    "ax.set(xlabel='Incidence Angle (degrees)',\n",
    "       ylabel='Backscatter (dB)')"
   ]
  },
  {
   "cell_type": "code",
   "execution_count": null,
   "metadata": {},
   "outputs": [],
   "source": [
    "## backscatter dependence on angle by BAND, only\n",
    "\n",
    "lr = (df[idx].groupby(['band'])[['angle', 'dB']].apply(lambda q: pd.Series(linregress(x = q['angle'],\n",
    "                                                              y = q['dB'])))\n",
    "      .reset_index()\n",
    "      .rename(columns = {0:'slope',\n",
    "                         1:'intercept',\n",
    "                         2:'rvalue',\n",
    "                         3:'pvalue',\n",
    "                         4:'stderr'}))\n",
    "\n",
    "print(lr.to_markdown())\n",
    "\n",
    "minang, maxang = df['angle'].agg(['min', 'max'])\n",
    "incident_angles = np.arange(minang//1, 1 + maxang//1)\n",
    "\n",
    "band_style = {\n",
    "    'hh': ':',\n",
    "    'hv': '-'\n",
    "}\n",
    "fig, ax = plt.subplots()\n",
    "for fit in lr.itertuples():    \n",
    "    ax.plot(incident_angles,\n",
    "            incident_angles * fit.slope + fit.intercept,\n",
    "            ls=band_style[fit.band],\n",
    "            label=fit.band)\n",
    "ax.legend()\n",
    "\n",
    "ax.set(xlabel='Incidence Angle (degrees)',\n",
    "       ylabel='Backscatter (dB)')"
   ]
  },
  {
   "cell_type": "markdown",
   "metadata": {},
   "source": [
    "# fold"
   ]
  },
  {
   "cell_type": "code",
   "execution_count": null,
   "metadata": {},
   "outputs": [],
   "source": [
    "# doesn't need running again because saved output to: '../results/s1_lake_backscatter.parquet'\n",
    "catalog = pystac_client.Client.open(\"https://planetarycomputer.microsoft.com/api/stac/v1\")\n",
    "medians = []\n",
    "ids = []\n",
    "for row in tqdm(lakes.to_crs(4326).sample(1).itertuples()):\n",
    "    \n",
    "    search = catalog.search(collections=['sentinel-1-rtc'],\n",
    "                            intersects=row.geometry)\n",
    "    \n",
    "    s1items = search.item_collection()\n",
    "    \n",
    "    # get most common projection\n",
    "    vals, cnts = np.unique([item.properties['proj:epsg'] for item in s1items] ,return_counts=True)\n",
    "    epsg = int(vals[np.argmax(cnts)])\n",
    "    \n",
    "    # stack & clip\n",
    "    ds = stackstac.stack(planetary_computer.sign(s1items),\n",
    "                        epsg=epsg,\n",
    "                        bounds_latlon=row.geometry.bounds)\n",
    "    \n",
    "    mask = (make_geocube(lakes.to_crs(4326).loc[lakes['id']==row.id],\n",
    "                          fill=np.nan,\n",
    "                          like=ds)['id']\n",
    "             .rename('mask'))\n",
    "    \n",
    "    # apply mask and convert to dB\n",
    "    ds_db = xr.where(mask==row.id,\n",
    "                     10 * np.log10(ds),\n",
    "                     np.nan)\n",
    "\n",
    "    median = (ds_db\n",
    "              .median(dim=['y','x'], skipna=True)\n",
    "              .rename('dB'))\n",
    "    \n",
    "    medians.append(median) # consider making this a future\n",
    "    ids.append(row.id)\n",
    "    \n",
    "with LocalCluster() as cluster:\n",
    "    client = cluster.get_client()\n",
    "    print(client.dashboard_link)    \n",
    "    computed_medians = dask.compute(*medians)\n",
    "    dfs = []\n",
    "    for m_ds, id in zip(computed_medians, ids):\n",
    "        _df = m_ds.to_dataframe()\n",
    "        _df['myid'] = id\n",
    "        dfs.append(_df)\n",
    "    \n",
    "    df = pd.concat(dfs).reset_index().set_index('time')\n",
    "    \n",
    "df.to_parquet('../results/s1_lake_backscatter.parquet')"
   ]
  },
  {
   "cell_type": "markdown",
   "metadata": {},
   "source": [
    "using: \n",
    "- https://github.com/egagli/generate_sentinel1_local_incidence_angle_maps/blob/882b9940a843c6dc3040f992ad6bed14201a2f5c/generate_lia.py#L61\n",
    "- https://github.com/microsoft/PlanetaryComputerExamples/blob/main/tutorials/rtc-qualitative-assessment.ipynb\n",
    "- and sarsen"
   ]
  },
  {
   "cell_type": "markdown",
   "metadata": {},
   "source": [
    "## get s1 data"
   ]
  },
  {
   "cell_type": "code",
   "execution_count": null,
   "metadata": {},
   "outputs": [],
   "source": [
    "df = pd.read_parquet('../results/s1_lake_backscatter.parquet')\n",
    "df = df.merge(centrelines['SUBREGION1'], left_on='myid', right_index=True)"
   ]
  },
  {
   "cell_type": "code",
   "execution_count": null,
   "metadata": {},
   "outputs": [],
   "source": [
    "fg = sns.relplot(data=df.groupby(['myid', 'band', 'SUBREGION1'])['dB'].rolling('30d').median().reset_index(),\n",
    "                 x='time',\n",
    "                 y='dB',\n",
    "                 row='SUBREGION1',\n",
    "                 hue='SUBREGION1',\n",
    "                 style='myid',\n",
    "                 palette='tab10',\n",
    "                 col='band',\n",
    "                 col_order=['hh'],\n",
    "                 kind='line',\n",
    "                 aspect=2,\n",
    "                #  height=10\n",
    "                 )\n",
    "\n",
    "fg.set(ylim=(-22,2))"
   ]
  },
  {
   "cell_type": "code",
   "execution_count": null,
   "metadata": {},
   "outputs": [],
   "source": [
    "df['doy'] = df.index.day_of_year\n",
    "df['year'] = df.index.year"
   ]
  },
  {
   "cell_type": "code",
   "execution_count": null,
   "metadata": {},
   "outputs": [],
   "source": [
    "smoothed = df.groupby(['myid', 'band', 'SUBREGION1'])['dB'].rolling('30d', min_periods=3, center=True).median().reset_index()\n",
    "smoothed['doy'] = smoothed['time'].dt.day_of_year\n",
    "smoothed['year'] = smoothed['time'].dt.year\n"
   ]
  },
  {
   "cell_type": "code",
   "execution_count": null,
   "metadata": {},
   "outputs": [],
   "source": [
    "sns.relplot(data=smoothed.loc[\n",
    "    (smoothed['band'].isin(['hh']))\n",
    "    & (smoothed['year'].isin([2018, 2024]))\n",
    "    ],\n",
    "            x='doy',\n",
    "            y='dB',\n",
    "            hue='year',\n",
    "            col='SUBREGION1',\n",
    "            col_wrap=3,\n",
    "            # row='SUBREGION1',\n",
    "            kind='line')"
   ]
  }
 ],
 "metadata": {
  "kernelspec": {
   "display_name": "pro",
   "language": "python",
   "name": "python3"
  },
  "language_info": {
   "codemirror_mode": {
    "name": "ipython",
    "version": 3
   },
   "file_extension": ".py",
   "mimetype": "text/x-python",
   "name": "python",
   "nbconvert_exporter": "python",
   "pygments_lexer": "ipython3",
   "version": "3.12.3"
  }
 },
 "nbformat": 4,
 "nbformat_minor": 2
}

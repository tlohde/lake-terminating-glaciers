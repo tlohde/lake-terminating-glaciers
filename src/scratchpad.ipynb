{
 "cells": [
  {
   "cell_type": "markdown",
   "metadata": {},
   "source": [
    "TODO\n",
    "jason briner - long term perspectives of greenland ice sheet position\n",
    "- if current approx margin configuration is where it _generally_ is during interglacials then it would *make sense* that there are lots of overdeepenings just up-ice.\n",
    "- Lindbäck, K., R. Pettersson, A. L. Hubbard, S. H. Doyle, D. van As, A. B. Mikkelsen, and A. A. Fitzpatrick. 2015. Subglacial water drainage, storage and piracy beneath the Greenland ice sheet. Geophysical Research Letters 42:7606–14.\n",
    "see lindback references in ross et al., 2018\n",
    "- Lindbäck, K., R. Petterson, S. H. Doyle, C. Helanow, P. Jansson, S. S. Kristensen, L. Stenseng, R. Forsberg, and A. L. Hubbard. 2014. High-resolution ice thickness and bed topography of a land-terminating section of the Greenland ice sheet. Earth System Science Data 6:331–38.\n",
    "is there evidence of *preferential* erosion signature\n",
    "\n",
    "lake massu\n",
    "simon mudd, mikael attal - what are lakes? \n",
    "rivers **cannot** erode below base level.\n",
    "\n",
    "TODO\n",
    "send PN velocity figures and summary paragraph"
   ]
  },
  {
   "cell_type": "code",
   "execution_count": 1,
   "metadata": {},
   "outputs": [
    {
     "name": "stdout",
     "output_type": "stream",
     "text": [
      "dask dashboard: http://127.0.0.1:8787/status\n"
     ]
    }
   ],
   "source": [
    "from dask.distributed import Client\n",
    "import pandas as pd\n",
    "import itslive\n",
    "import geopandas as gpd\n",
    "from shapely.geometry import Polygon\n",
    "from shapely import box\n",
    "import matplotlib.pyplot as plt\n",
    "from matplotlib.collections import LineCollection\n",
    "from matplotlib.dates import date2num, DateFormatter, YearLocator\n",
    "import seaborn as sns\n",
    "import xrspatial as xrs\n",
    "import numpy as np\n",
    "import xarray as xr\n",
    "from tqdm import tqdm\n",
    "from IPython import display\n",
    "import importlib\n",
    "import imagery\n",
    "import utils\n",
    "import get_velocity\n",
    "\n",
    "client = Client()\n",
    "print(f'dask dashboard: {client.dashboard_link}')"
   ]
  },
  {
   "cell_type": "code",
   "execution_count": 11,
   "metadata": {},
   "outputs": [],
   "source": [
    "_ = importlib.reload(utils)\n",
    "_ = importlib.reload(get_velocity)\n",
    "_ = importlib.reload(imagery)"
   ]
  },
  {
   "cell_type": "code",
   "execution_count": 3,
   "metadata": {},
   "outputs": [],
   "source": [
    "lines = gpd.read_file('../data/streams_v2.geojson')"
   ]
  },
  {
   "cell_type": "code",
   "execution_count": 4,
   "metadata": {},
   "outputs": [
    {
     "name": "stderr",
     "output_type": "stream",
     "text": [
      "1it [01:33, 93.89s/it]\n"
     ]
    }
   ],
   "source": [
    "V = {}\n",
    "for row in tqdm(lines.sample(1).itertuples()):\n",
    "    print(f'working on #{row.Index}')\n",
    "    try:\n",
    "        V[row.Index] = get_velocity.CentreLiner(geo=row.geometry,\n",
    "                                                buff_dist=1_000,\n",
    "                                                index=row.Index,\n",
    "                                                filter_cube=False,\n",
    "                                                get_annual_median=False,\n",
    "                                                get_rgb=False)\n",
    "        display.clear_output(wait=True)\n",
    "    except Exception as e:\n",
    "        print(f'#{row.Index} did not work because\\n{e}')\n",
    "        continue"
   ]
  },
  {
   "cell_type": "code",
   "execution_count": null,
   "metadata": {},
   "outputs": [],
   "source": [
    "def filter_df(self, ddt_range, **kwargs):\n",
    "    _df, _ = get_velocity.Tools.filter_ddt(self.line_df,\n",
    "                                           ddt_range)\n",
    "    _var = kwargs.get('var', 'v')\n",
    "    _val = kwargs.get('val', None)\n",
    "    _col = kwargs.get('col', 'cumul_dist')\n",
    "    _mad = kwargs.get('mad', 5)\n",
    "    \n",
    "    if _val is None:\n",
    "        print('no val supplied - finding distance where v is peak')\n",
    "        _df = _df.loc[_df[_col] == (_df\n",
    "                                            .set_index(_col)\n",
    "                                            .groupby('mid_date')[_var]\n",
    "                                            .idxmax()\n",
    "                                            .value_counts()\n",
    "                                            .idxmax())\n",
    "                    ].sort_values(by='mid_date')\n",
    "    else:\n",
    "        _df = utils.nearest(_df, _col, _val).sort_values(by='mid_date')\n",
    "        \n",
    "    if _mad:\n",
    "        _df = get_velocity.Tools.filter_mad(_df, _var, n=_mad)\n",
    "        _df = _df.sort_values(by='mid_date')\n",
    "        \n",
    "    return _df\n",
    "    \n",
    "def plot_datedt_bars(self, ddt_range, ax, **kwargs):\n",
    "    from matplotlib.collections import LineCollection\n",
    "    _c = kwargs.get('c', 'tab:blue')\n",
    "    _lw = kwargs.get('lw', 1)\n",
    "    \n",
    "    _df = filter_df(self, ddt_range, **kwargs)\n",
    "    \n",
    "    _vcol = LineCollection(list(zip(\n",
    "        list(zip(date2num(_df['acquisition_date_img1']), _df['v'])),\n",
    "        list(zip(date2num(_df['acquisition_date_img2']), _df['v']))\n",
    "        )),\n",
    "                           linewidth=_lw,\n",
    "                           color=_c)\n",
    "    \n",
    "    ax.add_collection(_vcol, autolim=False)\n",
    "    \n",
    "    ax.set(\n",
    "        ylim=(_df['v'].agg([np.nanmin, np.nanmax])),\n",
    "        xlim=(date2num(_df['acquisition_date_img1'].min()),\n",
    "              date2num(_df['acquisition_date_img2'].max())\n",
    "              ))\n",
    "    \n",
    "def plot_datedt_rolling_median(self, ddt_range, ax, **kwargs):\n",
    "    _c = kwargs.get('c', 'tab:blue')\n",
    "    _lw = kwargs.get('lw', 1)\n",
    "    _val = kwargs.get('val', None)\n",
    "    _col = kwargs.get('col', None)\n",
    "    _var = kwargs.get('var', 'v')\n",
    "    _mad = kwargs.get('mad', 5)\n",
    "    _window = kwargs.get('window', '21d')\n",
    "\n",
    "    _df = filter_df(self, ddt_range, **kwargs)\n",
    "    _df = _df.loc[~_df[_var].isna()]\n",
    "    (_df.rolling(_window,\n",
    "                on='mid_date',\n",
    "                min_periods=3)['v','mid_date']\n",
    "    .median()\n",
    "    .plot(x='mid_date', y='v', ax=ax, c=_c, lw=_lw))\n",
    "\n",
    "    # ax.axhline(_df['v'].median(), c='k')"
   ]
  },
  {
   "cell_type": "code",
   "execution_count": 14,
   "metadata": {},
   "outputs": [
    {
     "name": "stdout",
     "output_type": "stream",
     "text": [
      "no val supplied - finding distance where v is peak\n",
      "MAD: 7.0\n",
      "no val supplied - finding distance where v is peak\n",
      "MAD: 7.0\n"
     ]
    },
    {
     "data": {
      "image/png": "[encoded data removed]",
      "text/plain": [
       "<Figure size 640x480 with 1 Axes>"
      ]
     },
     "metadata": {},
     "output_type": "display_data"
    }
   ],
   "source": [
    "fig, ax = plt.subplots()\n",
    "\n",
    "get_velocity.Plotters.rolling_median(V[11],\n",
    "                                     ('335d', '395d'),\n",
    "                                    #  val=0,\n",
    "                                     col='cumul_dist',\n",
    "                                     var='v',\n",
    "                                     mad=5,\n",
    "                                     window='180d',\n",
    "                                     ax=ax)\n",
    "\n",
    "get_velocity.Plotters.date_dt_bars(V[11],\n",
    "                                   ddt_range=('335d', '395d'),\n",
    "                                   ax=ax,\n",
    "                                   lw=0.5,\n",
    "                                   var='v',)"
   ]
  },
  {
   "cell_type": "markdown",
   "metadata": {},
   "source": [
    "- look at underlying dodgy velocity images\n",
    "TODO look at GRIMpP and MEASUREs"
   ]
  },
  {
   "cell_type": "markdown",
   "metadata": {},
   "source": [
    "TODO\n",
    "- PN thinks that relative change is sufficient to *control* for variations in glacier geometry (read: width/size).\n",
    "- most interested in *relative* change of velocity over final few kilometers.\n",
    "    - i.e. \n",
    "\n",
    "- it all comes from the same raw processed v data"
   ]
  },
  {
   "cell_type": "markdown",
   "metadata": {},
   "source": [
    "## imagery"
   ]
  },
  {
   "cell_type": "code",
   "execution_count": null,
   "metadata": {},
   "outputs": [],
   "source": [
    "study_sites = gpd.read_file('../data/potential_study_sites_v1.geojson')\n",
    "study_sites = study_sites.loc[study_sites['notes'].isin(['yes', 'maybe'])]\n",
    "study_sites.reset_index(drop=True, inplace=True)\n",
    "study_sites_5k = study_sites.buffer(5_000).to_crs(4326)"
   ]
  },
  {
   "cell_type": "code",
   "execution_count": null,
   "metadata": {},
   "outputs": [],
   "source": [
    "items = imagery.get_annual_median_mosaic(\n",
    "    study_sites.loc[0,'geometry'],\n",
    "    buffer_dist=15_000,\n",
    "    src_crs=study_sites.crs,\n",
    "    target_crs=4326,\n",
    "    timeperiod='2023-01-01/2024-01-01',\n",
    "    months=[8,9],\n",
    "    )"
   ]
  },
  {
   "cell_type": "code",
   "execution_count": null,
   "metadata": {},
   "outputs": [],
   "source": [
    "(xrs.multispectral.true_color(\n",
    "    *items.squeeze()\n",
    "    .transpose('band', 'y', 'x'))\n",
    " .plot.imshow(rgb='band')\n",
    ")"
   ]
  },
  {
   "cell_type": "code",
   "execution_count": null,
   "metadata": {},
   "outputs": [],
   "source": [
    "import stackstac\n",
    "stackstac.stack(items, assets=['B04', 'B03', 'B02'])"
   ]
  }
 ],
 "metadata": {
  "kernelspec": {
   "display_name": "paper2",
   "language": "python",
   "name": "python3"
  },
  "language_info": {
   "codemirror_mode": {
    "name": "ipython",
    "version": 3
   },
   "file_extension": ".py",
   "mimetype": "text/x-python",
   "name": "python",
   "nbconvert_exporter": "python",
   "pygments_lexer": "ipython3",
   "version": "3.12.2"
  }
 },
 "nbformat": 4,
 "nbformat_minor": 2
}

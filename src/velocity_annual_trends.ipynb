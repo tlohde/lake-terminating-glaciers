{
 "cells": [
  {
   "cell_type": "code",
   "execution_count": null,
   "metadata": {},
   "outputs": [],
   "source": [
    "from dask.distributed import Client, LocalCluster\n",
    "import pandas as pd\n",
    "import geopandas as gpd\n",
    "import matplotlib.pyplot as plt\n",
    "import numpy as np\n",
    "import xarray as xr\n",
    "from tqdm import tqdm\n",
    "from IPython import display\n",
    "import importlib\n",
    "import utils\n",
    "import velocity_helpers"
   ]
  },
  {
   "cell_type": "code",
   "execution_count": null,
   "metadata": {},
   "outputs": [],
   "source": [
    "import importlib\n",
    "importlib.reload(velocity_helpers)"
   ]
  },
  {
   "cell_type": "code",
   "execution_count": null,
   "metadata": {},
   "outputs": [],
   "source": [
    "cluster = LocalCluster()\n",
    "client = Client(cluster)\n",
    "print(client.dashboard_link)"
   ]
  },
  {
   "cell_type": "code",
   "execution_count": null,
   "metadata": {},
   "outputs": [],
   "source": [
    "## read in lines; lazily get velocity cubes, centrelines, and robust trends\n",
    "lines = gpd.read_file('../data/streams_v2.geojson')\n",
    "V = {}\n",
    "failed = []\n",
    "for row in tqdm(lines.sample(1).itertuples()):\n",
    "    print(f'working on #{row.Index}')\n",
    "    # try:\n",
    "    V[row.Index] = velocity_helpers.CentreLiner(\n",
    "        geo=row.geometry,\n",
    "        buff_dist=3_000,\n",
    "        index=row.Index,\n",
    "        filter_cube=False,\n",
    "        get_robust_trend=True,\n",
    "        get_annual_median=False,\n",
    "        sample_centreline=False,\n",
    "        get_rgb=False,\n",
    "        **{'ddt_range': ('335d', '395d'),\n",
    "            'robust_trend_export': True})\n",
    "        # display.clear_output(wait=True)\n",
    "    # except Exception as e:\n",
    "    #     failed.append((row.Index, e))\n",
    "    #     print(f'#{row.Index} did not work because\\n{e}')\n",
    "    #     continue\n"
   ]
  },
  {
   "cell_type": "code",
   "execution_count": null,
   "metadata": {},
   "outputs": [],
   "source": [
    "old = xr.open_dataset(\n",
    "    '../results/intermediate/velocity/robust_annual_trends/id10.zarr/',\n",
    "    engine='zarr'\n",
    ")\n",
    "new = xr.open_dataset(\n",
    "    '../results/intermediate/velocity/robust_annual_trends/240524_2312_id10.zarr/',\n",
    "    engine='zarr')\n",
    "\n"
   ]
  },
  {
   "cell_type": "code",
   "execution_count": null,
   "metadata": {},
   "outputs": [],
   "source": [
    "fig, axs = plt.subplots(ncols=3, sharex=True, sharey=True, subplot_kw={'aspect':'equal'})\n",
    "\n",
    "old['v_trend'][:,:,0].plot(ax=axs[0], vmin=-20, vmax=20, cmap='RdBu_r')\n",
    "new['v_trend'][:,:,0].plot(ax=axs[1], vmin=-20, vmax=20, cmap='RdBu_r')\n",
    "(new['v_trend'][:,:,0] - old['v_trend'][:,:,0]).plot(ax=axs[2], vmin=-2, vmax=2, cmap='PuOr')"
   ]
  },
  {
   "cell_type": "code",
   "execution_count": null,
   "metadata": {},
   "outputs": [],
   "source": [
    "\n",
    "# compute robust trends and export at the same time\n",
    "for k, v in tqdm(V.items()):\n",
    "    v.robust_trend['v_trend'].attrs = {'crs':3413,\n",
    "                                       'buffer':3000,\n",
    "                                       'ddt_range': v.ddt_range,\n",
    "                                       'mad_n': v.n,\n",
    "                                       'date':str(pd.Timestamp.now()),\n",
    "                                       'centreline':v.tidy_stream.wkt,\n",
    "                                       'centreline_id': k}\n",
    "    \n",
    "    (v.robust_trend['v_trend']\n",
    "     .chunk(dict(zip(v.robust_trend['v_trend'].dims,\n",
    "                    v.robust_trend['v_trend'].shape)))\n",
    "     .to_zarr(f'../results/intermediate/velocity/robust_annual_trends/id{k}.zarr')\n",
    "     )\n"
   ]
  },
  {
   "cell_type": "code",
   "execution_count": null,
   "metadata": {},
   "outputs": [],
   "source": [
    "import pandas as pd"
   ]
  },
  {
   "cell_type": "code",
   "execution_count": null,
   "metadata": {},
   "outputs": [],
   "source": [
    "pd.Timestamp.now().strftime('%Y%m%d_%H%M')"
   ]
  },
  {
   "cell_type": "code",
   "execution_count": null,
   "metadata": {},
   "outputs": [],
   "source": [
    "pd.Timestamp.now()now = pd.Timestamp.now().strftime('%y%m%d_%H%M')+ '_'\n",
    "directory = ''\n",
    "filename = '.png'\n",
    "fig.savefig(directory + now + filename, bbox_inches = 'tight')"
   ]
  },
  {
   "cell_type": "markdown",
   "metadata": {},
   "source": [
    "# plotting"
   ]
  },
  {
   "cell_type": "code",
   "execution_count": null,
   "metadata": {},
   "outputs": [],
   "source": [
    "import matplotlib.pyplot as plt\n",
    "import seaborn as sns\n",
    "from glob import glob"
   ]
  },
  {
   "cell_type": "code",
   "execution_count": null,
   "metadata": {},
   "outputs": [],
   "source": [
    "lines = gpd.read_file('../data/streams_v2.geojson')"
   ]
  },
  {
   "cell_type": "code",
   "execution_count": null,
   "metadata": {},
   "outputs": [],
   "source": [
    "files = glob('../results/intermediate/velocity/robust_annual_trends/*.zarr')\n",
    "dss = [xr.open_dataset(f, engine='zarr')['v_trend'] for f in files]"
   ]
  },
  {
   "cell_type": "code",
   "execution_count": null,
   "metadata": {},
   "outputs": [],
   "source": [
    "ids = [ds.attrs['centreline_id'] for ds in dss]"
   ]
  },
  {
   "cell_type": "code",
   "execution_count": null,
   "metadata": {},
   "outputs": [],
   "source": [
    "results= dict(zip(ids, dss))"
   ]
  },
  {
   "cell_type": "code",
   "execution_count": null,
   "metadata": {},
   "outputs": [],
   "source": [
    "from shapely import wkt"
   ]
  },
  {
   "cell_type": "code",
   "execution_count": null,
   "metadata": {},
   "outputs": [],
   "source": [
    "results.keys()"
   ]
  },
  {
   "cell_type": "code",
   "execution_count": null,
   "metadata": {},
   "outputs": [],
   "source": []
  },
  {
   "cell_type": "code",
   "execution_count": null,
   "metadata": {},
   "outputs": [],
   "source": [
    "fig, axs = plt.subplots(ncols=3,\n",
    "                        nrows=5,\n",
    "                        subplot_kw={'aspect':'equal'},\n",
    "                        figsize=[15,15])\n",
    "\n",
    "# for k, v in results.items():\n",
    "i = 0\n",
    "for row in lines.itertuples(): \n",
    "    try:\n",
    "        v = results[row.Index]\n",
    "    except KeyError:\n",
    "        continue\n",
    "    \n",
    "    v[:,:,0].plot(ax=axs.flat[i], robust=True, cmap='RdBu_r', cbar_kwargs={'label':'m yr^-2'})    \n",
    "    _p = utils.shapely_reprojector(row.geometry.boundary.geoms[0])\n",
    "    axs.flat[i].set_title(f'{_p.y:.2f} N, {-_p.x:.2f} W', y=0.97)\n",
    "    axs.flat[i].plot(*row.geometry.coords.xy, c='k', ls=':')\n",
    "    axs.flat[i].set_axis_off()\n",
    "    i += 1\n",
    "\n",
    "[ax.remove() for ax in axs.flat[-2:]]\n",
    "# [axs.flat[q].remove() for q in [i for i in range(len(axs.flat)) if i not in results.keys()]]\n",
    "fig.savefig('../results/intermediate/velocity/robust_annual_trends/spatial_plot.png')\n",
    "\n",
    "now = pd.Timestamp.now().strftime('%y%m%d_%H%M')+ '_'\n",
    "directory = '../../GitHub/diary/journal_figures/'\n",
    "filename = 'robust_annual_trends_spatial_plot.png'\n",
    "fig.savefig(directory + now + filename, bbox_inches = 'tight')"
   ]
  },
  {
   "cell_type": "code",
   "execution_count": null,
   "metadata": {},
   "outputs": [],
   "source": [
    "fig, axs = plt.subplots(ncols=3, nrows=5)\n",
    "\n",
    "ls = wkt.loads(results[1].attrs['centreline'])\n",
    "ax.plot(*ls.coords.xy, c='k')"
   ]
  }
 ],
 "metadata": {
  "kernelspec": {
   "display_name": "paper2",
   "language": "python",
   "name": "python3"
  },
  "language_info": {
   "codemirror_mode": {
    "name": "ipython",
    "version": 3
   },
   "file_extension": ".py",
   "mimetype": "text/x-python",
   "name": "python",
   "nbconvert_exporter": "python",
   "pygments_lexer": "ipython3",
   "version": "3.12.2"
  }
 },
 "nbformat": 4,
 "nbformat_minor": 2
}
